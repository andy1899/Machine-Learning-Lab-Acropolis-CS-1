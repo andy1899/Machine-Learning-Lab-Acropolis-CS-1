{
  "nbformat": 4,
  "nbformat_minor": 0,
  "metadata": {
    "colab": {
      "name": "CNN.ipynb",
      "provenance": [],
      "collapsed_sections": [],
      "include_colab_link": true
    },
    "kernelspec": {
      "name": "python3",
      "display_name": "Python 3"
    },
    "accelerator": "GPU"
  },
  "cells": [
    {
      "cell_type": "markdown",
      "metadata": {
        "id": "view-in-github",
        "colab_type": "text"
      },
      "source": [
        "<a href=\"https://colab.research.google.com/github/andy1899/Machine-Learning-Lab-Acropolis-CS-1/blob/master/CNN.ipynb\" target=\"_parent\"><img src=\"https://colab.research.google.com/assets/colab-badge.svg\" alt=\"Open In Colab\"/></a>"
      ]
    },
    {
      "cell_type": "code",
      "metadata": {
        "id": "bTQBPCfdztDL",
        "colab_type": "code",
        "colab": {}
      },
      "source": [
        "import numpy as np\n",
        "import keras\n",
        "\n",
        "from keras.utils import plot_model\n",
        "#plot_model(model, to_file='model.png')\n",
        "\n",
        "from keras.datasets import mnist\n",
        "from keras.models import Sequential\n",
        "from keras.layers import Dense, Dropout, Flatten, Conv2D, MaxPooling2D\n",
        "from keras import backend as K\n",
        "from keras.preprocessing import image\n",
        "from keras.applications.mobilenet import MobileNet\n",
        "from keras.applications.vgg16 import preprocess_input, decode_predictions\n",
        "from keras.models import Model\n",
        "import timeit\n",
        "\n",
        "import warnings\n",
        "warnings.filterwarnings('ignore')"
      ],
      "execution_count": 0,
      "outputs": []
    },
    {
      "cell_type": "code",
      "metadata": {
        "id": "R35_GC4d0FI0",
        "colab_type": "code",
        "outputId": "559a7b14-f02f-4074-ea89-7202150618a1",
        "colab": {
          "base_uri": "https://localhost:8080/",
          "height": 67
        }
      },
      "source": [
        "batch_size = 512\n",
        "num_classes = 10\n",
        "epochs = 20\n",
        "\n",
        "# input image dimensions\n",
        "img_rows, img_cols = 28, 28\n",
        "\n",
        "# the data, shuffled and split between train and test sets\n",
        "(x_train, y_train), (x_test, y_test) = mnist.load_data()\n",
        "\n",
        "if K.image_data_format() == 'channels_first':\n",
        "    x_train = x_train.reshape(x_train.shape[0], 1, img_rows, img_cols)\n",
        "    x_test = x_test.reshape(x_test.shape[0], 1, img_rows, img_cols)\n",
        "    input_shape = (1, img_rows, img_cols)\n",
        "else:\n",
        "    x_train = x_train.reshape(x_train.shape[0], img_rows, img_cols, 1)\n",
        "    x_test = x_test.reshape(x_test.shape[0], img_rows, img_cols, 1)\n",
        "    input_shape = (img_rows, img_cols, 1)\n",
        "\n",
        "x_train = x_train.astype('float32')\n",
        "x_test = x_test.astype('float32')\n",
        "x_train /= 255\n",
        "x_test /= 255\n",
        "print('x_train shape:', x_train.shape)\n",
        "print(x_train.shape[0], 'train samples')\n",
        "print(x_test.shape[0], 'test samples')\n",
        "\n",
        "# convert class vectors to binary class matrices\n",
        "y_train = keras.utils.to_categorical(y_train, num_classes)\n",
        "y_test = keras.utils.to_categorical(y_test, num_classes)"
      ],
      "execution_count": 14,
      "outputs": [
        {
          "output_type": "stream",
          "text": [
            "x_train shape: (60000, 28, 28, 1)\n",
            "60000 train samples\n",
            "10000 test samples\n"
          ],
          "name": "stdout"
        }
      ]
    },
    {
      "cell_type": "code",
      "metadata": {
        "id": "Eycals-a0NA5",
        "colab_type": "code",
        "outputId": "21140bc3-78c6-4d03-d7eb-942cfe324c85",
        "colab": {
          "base_uri": "https://localhost:8080/",
          "height": 454
        }
      },
      "source": [
        "model = Sequential()\n",
        "model.add(Conv2D(10, kernel_size=(6, 6), activation='relu', input_shape=input_shape))\n",
        "model.add(MaxPooling2D(pool_size=(2, 2)))\n",
        "#keras.layers.MaxPooling2D(pool_size=(2, 2), strides=None, padding='valid', data_format=None)\n",
        "#keras.layers.AveragePooling1D(pool_size=2, strides=None, padding='valid', data_format='channels_last')\n",
        "\n",
        "model.add(Conv2D(16, (7, 7), activation='relu'))\n",
        "model.add(MaxPooling2D(pool_size=(2, 2)))\n",
        "#keras.layers.MaxPooling2D(pool_size=(2, 2), strides=None, padding='valid', data_format=None)\n",
        "#keras.layers.AveragePooling1D(pool_size=2, strides=None, padding='valid', data_format='channels_last')\n",
        "\n",
        "model.add(Dropout(0.25))\n",
        "model.add(Flatten())\n",
        "model.add(Dense(64, activation='relu'))\n",
        "model.add(Dropout(0.5))\n",
        "model.add(Dense(num_classes, activation='softmax'))\n",
        "model.summary()"
      ],
      "execution_count": 20,
      "outputs": [
        {
          "output_type": "stream",
          "text": [
            "Model: \"sequential_4\"\n",
            "_________________________________________________________________\n",
            "Layer (type)                 Output Shape              Param #   \n",
            "=================================================================\n",
            "conv2d_7 (Conv2D)            (None, 23, 23, 10)        370       \n",
            "_________________________________________________________________\n",
            "max_pooling2d_7 (MaxPooling2 (None, 11, 11, 10)        0         \n",
            "_________________________________________________________________\n",
            "conv2d_8 (Conv2D)            (None, 5, 5, 16)          7856      \n",
            "_________________________________________________________________\n",
            "max_pooling2d_8 (MaxPooling2 (None, 2, 2, 16)          0         \n",
            "_________________________________________________________________\n",
            "dropout_7 (Dropout)          (None, 2, 2, 16)          0         \n",
            "_________________________________________________________________\n",
            "flatten_4 (Flatten)          (None, 64)                0         \n",
            "_________________________________________________________________\n",
            "dense_7 (Dense)              (None, 64)                4160      \n",
            "_________________________________________________________________\n",
            "dropout_8 (Dropout)          (None, 64)                0         \n",
            "_________________________________________________________________\n",
            "dense_8 (Dense)              (None, 10)                650       \n",
            "=================================================================\n",
            "Total params: 13,036\n",
            "Trainable params: 13,036\n",
            "Non-trainable params: 0\n",
            "_________________________________________________________________\n"
          ],
          "name": "stdout"
        }
      ]
    },
    {
      "cell_type": "code",
      "metadata": {
        "id": "tn753RJd0Qpq",
        "colab_type": "code",
        "outputId": "1e394614-fb57-4cb6-cda9-839fdf1777c5",
        "colab": {
          "base_uri": "https://localhost:8080/",
          "height": 722
        }
      },
      "source": [
        "model.compile(loss=keras.losses.categorical_crossentropy,\n",
        "              optimizer=keras.optimizers.Adadelta(),\n",
        "              metrics=['accuracy'])\n",
        "\n",
        "model.fit(x_train, y_train,\n",
        "          batch_size=batch_size,\n",
        "          epochs=epochs,\n",
        "          verbose=1,\n",
        "          validation_data=(x_test, y_test))"
      ],
      "execution_count": 21,
      "outputs": [
        {
          "output_type": "stream",
          "text": [
            "Train on 60000 samples, validate on 10000 samples\n",
            "Epoch 1/20\n",
            "60000/60000 [==============================] - 2s 37us/step - loss: 1.1246 - acc: 0.6227 - val_loss: 0.2580 - val_acc: 0.9253\n",
            "Epoch 2/20\n",
            "60000/60000 [==============================] - 2s 28us/step - loss: 0.4360 - acc: 0.8661 - val_loss: 0.2320 - val_acc: 0.9286\n",
            "Epoch 3/20\n",
            "60000/60000 [==============================] - 2s 27us/step - loss: 0.3050 - acc: 0.9092 - val_loss: 0.1209 - val_acc: 0.9626\n",
            "Epoch 4/20\n",
            "60000/60000 [==============================] - 2s 27us/step - loss: 0.2451 - acc: 0.9284 - val_loss: 0.1042 - val_acc: 0.9686\n",
            "Epoch 5/20\n",
            "60000/60000 [==============================] - 2s 27us/step - loss: 0.2114 - acc: 0.9392 - val_loss: 0.0942 - val_acc: 0.9707\n",
            "Epoch 6/20\n",
            "60000/60000 [==============================] - 2s 27us/step - loss: 0.1859 - acc: 0.9477 - val_loss: 0.0751 - val_acc: 0.9775\n",
            "Epoch 7/20\n",
            "60000/60000 [==============================] - 2s 27us/step - loss: 0.1705 - acc: 0.9508 - val_loss: 0.0801 - val_acc: 0.9755\n",
            "Epoch 8/20\n",
            "60000/60000 [==============================] - 2s 27us/step - loss: 0.1553 - acc: 0.9563 - val_loss: 0.0723 - val_acc: 0.9770\n",
            "Epoch 9/20\n",
            "60000/60000 [==============================] - 2s 28us/step - loss: 0.1460 - acc: 0.9579 - val_loss: 0.0582 - val_acc: 0.9821\n",
            "Epoch 10/20\n",
            "60000/60000 [==============================] - 2s 29us/step - loss: 0.1410 - acc: 0.9607 - val_loss: 0.0694 - val_acc: 0.9789\n",
            "Epoch 11/20\n",
            "60000/60000 [==============================] - 2s 28us/step - loss: 0.1310 - acc: 0.9630 - val_loss: 0.0755 - val_acc: 0.9753\n",
            "Epoch 12/20\n",
            "60000/60000 [==============================] - 2s 28us/step - loss: 0.1269 - acc: 0.9639 - val_loss: 0.0664 - val_acc: 0.9781\n",
            "Epoch 13/20\n",
            "60000/60000 [==============================] - 2s 28us/step - loss: 0.1225 - acc: 0.9656 - val_loss: 0.0514 - val_acc: 0.9845\n",
            "Epoch 14/20\n",
            "60000/60000 [==============================] - 2s 27us/step - loss: 0.1157 - acc: 0.9675 - val_loss: 0.0511 - val_acc: 0.9837\n",
            "Epoch 15/20\n",
            "60000/60000 [==============================] - 2s 27us/step - loss: 0.1127 - acc: 0.9692 - val_loss: 0.0485 - val_acc: 0.9847\n",
            "Epoch 16/20\n",
            "60000/60000 [==============================] - 2s 27us/step - loss: 0.1116 - acc: 0.9691 - val_loss: 0.0599 - val_acc: 0.9818\n",
            "Epoch 17/20\n",
            "60000/60000 [==============================] - 2s 27us/step - loss: 0.1070 - acc: 0.9699 - val_loss: 0.0599 - val_acc: 0.9810\n",
            "Epoch 18/20\n",
            "60000/60000 [==============================] - 2s 28us/step - loss: 0.1066 - acc: 0.9705 - val_loss: 0.0617 - val_acc: 0.9801\n",
            "Epoch 19/20\n",
            "60000/60000 [==============================] - 2s 28us/step - loss: 0.1019 - acc: 0.9721 - val_loss: 0.0475 - val_acc: 0.9852\n",
            "Epoch 20/20\n",
            "60000/60000 [==============================] - 2s 27us/step - loss: 0.1020 - acc: 0.9711 - val_loss: 0.0453 - val_acc: 0.9867\n"
          ],
          "name": "stdout"
        },
        {
          "output_type": "execute_result",
          "data": {
            "text/plain": [
              "<keras.callbacks.History at 0x7fe4b34e5c88>"
            ]
          },
          "metadata": {
            "tags": []
          },
          "execution_count": 21
        }
      ]
    },
    {
      "cell_type": "code",
      "metadata": {
        "id": "mWUpx4JX0WHk",
        "colab_type": "code",
        "outputId": "08c6b9b3-6909-4263-dd19-71a07e05bcca",
        "colab": {
          "base_uri": "https://localhost:8080/",
          "height": 50
        }
      },
      "source": [
        "score = model.evaluate(x_test, y_test, verbose=0)\n",
        "print('Test loss:', score[0])\n",
        "print('Test accuracy:', score[1])"
      ],
      "execution_count": 22,
      "outputs": [
        {
          "output_type": "stream",
          "text": [
            "Test loss: 0.04527790461744153\n",
            "Test accuracy: 0.9867\n"
          ],
          "name": "stdout"
        }
      ]
    },
    {
      "cell_type": "code",
      "metadata": {
        "id": "Tn4O6ZIgCgjO",
        "colab_type": "code",
        "colab": {}
      },
      "source": [
        "model.save(\"CNN.h5\")"
      ],
      "execution_count": 0,
      "outputs": []
    },
    {
      "cell_type": "code",
      "metadata": {
        "id": "Vb8SiKxYDObl",
        "colab_type": "code",
        "outputId": "1d0af887-2b55-4af0-ada1-5d1e1a4cf310",
        "colab": {
          "base_uri": "https://localhost:8080/",
          "height": 926
        }
      },
      "source": [
        "plot_model(model)\n",
        "\n",
        "import matplotlib.pyplot as plt\n",
        "\n",
        "history = model.fit(x_train, y_train, validation_split=0.25, epochs=10, batch_size=16, verbose=1)\n",
        "\n",
        "# Plot training & validation accuracy values\n",
        "plt.plot(history.history['acc'])\n",
        "plt.plot(history.history['val_acc'])\n",
        "plt.title('Model accuracy')\n",
        "plt.ylabel('Accuracy')\n",
        "plt.xlabel('Epoch')\n",
        "plt.legend(['Train', 'Test'], loc='upper left')\n",
        "plt.show()\n",
        "\n",
        "# Plot training & validation loss values\n",
        "plt.plot(history.history['loss'])\n",
        "plt.plot(history.history['val_loss'])\n",
        "plt.title('Model loss')\n",
        "plt.ylabel('Loss')\n",
        "plt.xlabel('Epoch')\n",
        "plt.legend(['Train', 'Test'], loc='upper left')\n",
        "plt.show()\n"
      ],
      "execution_count": 24,
      "outputs": [
        {
          "output_type": "stream",
          "text": [
            "Train on 45000 samples, validate on 15000 samples\n",
            "Epoch 1/10\n",
            "45000/45000 [==============================] - 21s 474us/step - loss: 0.1186 - acc: 0.9670 - val_loss: 0.0596 - val_acc: 0.9821\n",
            "Epoch 2/10\n",
            "45000/45000 [==============================] - 21s 470us/step - loss: 0.1109 - acc: 0.9697 - val_loss: 0.0656 - val_acc: 0.9822\n",
            "Epoch 3/10\n",
            "45000/45000 [==============================] - 21s 466us/step - loss: 0.1115 - acc: 0.9704 - val_loss: 0.0604 - val_acc: 0.9837\n",
            "Epoch 4/10\n",
            "45000/45000 [==============================] - 21s 464us/step - loss: 0.1061 - acc: 0.9713 - val_loss: 0.0639 - val_acc: 0.9822\n",
            "Epoch 5/10\n",
            "45000/45000 [==============================] - 21s 461us/step - loss: 0.1048 - acc: 0.9718 - val_loss: 0.0749 - val_acc: 0.9814\n",
            "Epoch 6/10\n",
            "45000/45000 [==============================] - 21s 462us/step - loss: 0.1054 - acc: 0.9726 - val_loss: 0.0859 - val_acc: 0.9803\n",
            "Epoch 7/10\n",
            "45000/45000 [==============================] - 21s 462us/step - loss: 0.1078 - acc: 0.9724 - val_loss: 0.0608 - val_acc: 0.9839\n",
            "Epoch 8/10\n",
            "45000/45000 [==============================] - 21s 462us/step - loss: 0.1056 - acc: 0.9724 - val_loss: 0.0679 - val_acc: 0.9838\n",
            "Epoch 9/10\n",
            "45000/45000 [==============================] - 21s 462us/step - loss: 0.1085 - acc: 0.9718 - val_loss: 0.0643 - val_acc: 0.9831\n",
            "Epoch 10/10\n",
            "45000/45000 [==============================] - 21s 459us/step - loss: 0.1035 - acc: 0.9732 - val_loss: 0.0704 - val_acc: 0.9833\n"
          ],
          "name": "stdout"
        },
        {
          "output_type": "display_data",
          "data": {
            "image/png": "[encoded data removed]",
            "text/plain": [
              "<Figure size 432x288 with 1 Axes>"
            ]
          },
          "metadata": {
            "tags": []
          }
        },
        {
          "output_type": "display_data",
          "data": {
            "image/png": "[encoded data removed]",
            "text/plain": [
              "<Figure size 432x288 with 1 Axes>"
            ]
          },
          "metadata": {
            "tags": []
          }
        }
      ]
    }
  ]
}